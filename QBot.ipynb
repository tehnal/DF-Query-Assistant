{
 "cells": [
  {
   "cell_type": "code",
   "execution_count": 37,
   "id": "aeef4f6a",
   "metadata": {},
   "outputs": [],
   "source": [
    "import pandas as pd\n",
    "from openai import OpenAI\n",
    "from dotenv import load_dotenv\n",
    "import os"
   ]
  },
  {
   "cell_type": "code",
   "execution_count": 38,
   "id": "332a7f7e",
   "metadata": {},
   "outputs": [],
   "source": [
    "load_dotenv()\n",
    "api_key = os.getenv(\"OPENAI_API_KEY\")\n",
    "\n",
    "df = pd.read_csv(\"~/riskdata/application_data.csv\")\n",
    
    "\n",
    "client = OpenAI()\n",
    "schema = str(df.dtypes)\n",
    "sample = df.head(3).to_dict()\n",
    "\n"
   ]
  },
  {
   "cell_type": "code",
   "execution_count": 39,
   "id": "ddc3c759",
   "metadata": {},
   "outputs": [],
   "source": [
    "def ask_qbot(prompt):\n",
    "    completion = client.chat.completions.create(\n",
    "    model = \"gpt-4o\",\n",
    "    messages = [\n",
    "        {\"role\": \"system\", \"content\": \"You are a data assistant built to assist in any queries I have about a given dataset. You may only answer questions about the data. If you do not know or do not understand, just say so. \\\n",
    "        You will be given a dataset called df: 'application_data.csv'. This contains information about banking loan application data. This excerpt is taken from the source: 'The case study aims to identify patterns which indicate if a client has difficulty paying their installments which may be used for taking actions such as denying the loan, reducing the amount of loan, lending (to risky applicants) at a higher interest rate, etc. This will ensure that the consumers capable of repaying the loan are not rejected. Identification of such applicants using EDA is the aim of this case study.'\\\n",
    "         The dataframe 'df' has the following columns {schema} and some example rows are {sample}.\\\n",
    "        Important rules: Only output valid Python code. Do not include explanations, comments, or markdown formatting. Always assign the final answer to a variable called result.\\\n",
    "        I will ask you questions in plain english, your job is to respond with python code that uses pandas to query the data and obtain the information I want. If you can't figure out how to do it, then say so. Only return the python code and nothing else.\"},\n",
    "        {\"role\": \"user\", \"content\": prompt}\n",
    "        ],\n",
    "    max_tokens = 200,\n",
    "    temperature = .1,\n",
    "    )\n",
    "    code = completion.choices[0].message.content\n",
    "    if code.startswith(\"```\"):\n",
    "        code = code.strip(\"`\")        # remove leading/trailing backticks\n",
    "        code = code.replace(\"python\", \"\").strip()\n",
    "    elif code.startswith(\"'''\"):\n",
    "        code = code.split(\"'''\")[1]\n",
    "        code = code.replace(\"python\", \"\").strip()\n",
    "\n",
    "    local_vars = {\"df\": df}\n",
    "    #try:\n",
    "    exec(code, {}, local_vars)\n",
    "    result = local_vars.get('result')\n",
    "    #except Exception as e:\n",
    "          #return f\"Error running query: {e}\"\n",
    "    \n",
    "    summary_prompt = client.chat.completions.create(\n",
    "        model = \"gpt-4o\",\n",
    "        messages = [\n",
    "            {\"role\": \"system\", \"content\": str(result)},\n",
    "            {\"role\": \"user\", \"content\": f\"This is the result: {result}. Summarize this in one sentence for a non-technical user.\"}\n",
    "            ],\n",
    "        max_tokens = 150,\n",
    "        temperature = .1,\n",
    "        )  \n",
    "    \n",
    "    return summary_prompt.choices[0].message.content\n",
    "\n",
    "#ask_qbot(\"What is the average loan amount in the dataset 'df'?\")"
   ]
  },
  {
   "cell_type": "code",
   "execution_count": 41,
   "id": "5bb68042",
   "metadata": {},
   "outputs": [
    {
     "name": "stdout",
     "output_type": "stream",
     "text": [
      "Welcome to DBQbot. How may I be of assistance? Type exit to finish.\n",
      "The final outcome or total is 122.\n",
      "The final outcome or total is 307,511.\n",
      "Goodbye!\n"
     ]
    }
   ],
   "source": [
    "if __name__ == \"__main__\":\n",
    "    print(\"Welcome to DBQbot. How may I be of assistance? Type exit to finish.\")\n",
    "\n",
    "    while True:\n",
    "        prompt = input(\"\\nAsk a question!\")\n",
    "        if prompt.lower() in ['exit', 'quit']:\n",
    "            print(\"Goodbye!\")\n",
    "            break\n",
    "        if not prompt.lower():\n",
    "            print(\"Enter a valid question!\")\n",
    "            continue\n",
    "        answer = ask_qbot(prompt)\n",
    "        print(answer)"
   ]
  }
 ],
 "metadata": {
  "kernelspec": {
   "display_name": "Python 3",
   "language": "python",
   "name": "python3"
  },
  "language_info": {
   "codemirror_mode": {
    "name": "ipython",
    "version": 3
   },
   "file_extension": ".py",
   "mimetype": "text/x-python",
   "name": "python",
   "nbconvert_exporter": "python",
   "pygments_lexer": "ipython3",
   "version": "3.10.7"
  }
 },
 "nbformat": 4,
 "nbformat_minor": 5
}
